{
 "cells": [
  {
   "cell_type": "markdown",
   "id": "f409cf23",
   "metadata": {},
   "source": [
    "# Data Science Tools and Ecosystem"
   ]
  },
  {
   "cell_type": "markdown",
   "id": "43f2fbfd",
   "metadata": {},
   "source": [
    "In this notebook, Data Science and Ecosystem are Summarized."
   ]
  },
  {
   "cell_type": "markdown",
   "id": "b9b62902",
   "metadata": {},
   "source": [
    "Some of the popular languages that Data Science use are:"
   ]
  },
  {
   "cell_type": "markdown",
   "id": "62d0a0c6",
   "metadata": {},
   "source": [
    "1. SQL\n",
    "2. C++\n",
    "3. Java\n",
    "4. Python\n",
    "5. R \n",
    "6. Julia ecetra...."
   ]
  },
  {
   "cell_type": "markdown",
   "id": "4df61b13",
   "metadata": {},
   "source": [
    "Some of the commanly used libraries used by Data Scientists include :"
   ]
  },
  {
   "cell_type": "markdown",
   "id": "01b8e3f6",
   "metadata": {},
   "source": [
    "1. Pandas\n",
    "2. Numpy\n",
    "3. Scipy\n",
    "4. Matplotlib\n",
    "5. Tensorflow\n",
    "6. Pytorch\n",
    "7. SciKit-Learn\n",
    "8. Keras etc...."
   ]
  },
  {
   "cell_type": "markdown",
   "id": "f998accc",
   "metadata": {},
   "source": [
    "| Data Science Tools |\n",
    "|--------------------|\n",
    "|R Studio|\n",
    "|Anaconda|\n",
    "|Jupyter Notebook|"
   ]
  },
  {
   "cell_type": "markdown",
   "id": "52673c9f",
   "metadata": {},
   "source": [
    "### Below are a few examples of  evaluating arithmetic expressions in Python"
   ]
  },
  {
   "cell_type": "code",
   "execution_count": 4,
   "id": "91f51822",
   "metadata": {},
   "outputs": [
    {
     "data": {
      "text/plain": [
       "17"
      ]
     },
     "execution_count": 4,
     "metadata": {},
     "output_type": "execute_result"
    }
   ],
   "source": [
    "#This a simple arithmetic expression to mutiply then add integers\n",
    "(3*4)+5"
   ]
  },
  {
   "cell_type": "code",
   "execution_count": 5,
   "id": "3ebc90fc",
   "metadata": {},
   "outputs": [
    {
     "data": {
      "text/plain": [
       "3.3333333333333335"
      ]
     },
     "execution_count": 5,
     "metadata": {},
     "output_type": "execute_result"
    }
   ],
   "source": [
    "#This will convert 200 minutes to hours by diving by 60\n",
    "200/60"
   ]
  },
  {
   "cell_type": "markdown",
   "id": "1839c05c",
   "metadata": {},
   "source": [
    "___Objective___\n",
    "* list popular languages for Data Science.\n",
    "* List Popular Tools for Data Science.\n",
    "* Top Five Data Scientist in history.\n"
   ]
  },
  {
   "cell_type": "markdown",
   "id": "aa2679e6",
   "metadata": {},
   "source": [
    "## Author\n",
    "Firoz Shaik"
   ]
  }
 ],
 "metadata": {
  "kernelspec": {
   "display_name": "Python 3 (ipykernel)",
   "language": "python",
   "name": "python3"
  },
  "language_info": {
   "codemirror_mode": {
    "name": "ipython",
    "version": 3
   },
   "file_extension": ".py",
   "mimetype": "text/x-python",
   "name": "python",
   "nbconvert_exporter": "python",
   "pygments_lexer": "ipython3",
   "version": "3.11.4"
  }
 },
 "nbformat": 4,
 "nbformat_minor": 5
}
